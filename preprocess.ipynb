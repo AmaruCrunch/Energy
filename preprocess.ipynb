{
 "cells": [
  {
   "cell_type": "code",
   "execution_count": null,
   "metadata": {},
   "outputs": [],
   "source": [
    "import pandas as pd\n",
    "import plotly.graph_objects as go"
   ]
  },
  {
   "cell_type": "code",
   "execution_count": null,
   "metadata": {},
   "outputs": [],
   "source": [
    "df = pd.read_csv('electricity.csv')\n",
    "df.head()"
   ]
  },
  {
   "cell_type": "code",
   "execution_count": null,
   "metadata": {},
   "outputs": [],
   "source": [
    "df = pd.read_csv('global.csv')\n",
    "df.head()"
   ]
  },
  {
   "cell_type": "code",
   "execution_count": null,
   "metadata": {},
   "outputs": [],
   "source": [
    "# Load your GDP data into a DataFrame\n",
    "df_gdp = pd.read_csv('gdp_by_capita.csv')\n",
    "df_gdp.head()"
   ]
  },
  {
   "cell_type": "code",
   "execution_count": null,
   "metadata": {},
   "outputs": [],
   "source": [
    "# Reshape the data to match the energy consumption data\n",
    "df_gdp_reshaped = df_gdp.melt(\n",
    "    id_vars=['Country Name', 'Country Code'], \n",
    "    var_name='Year', \n",
    "    value_name='GDP per capita'\n",
    ")\n",
    "\n",
    "# Rename the 'Country Name' column to 'Entity' to match the energy consumption data\n",
    "df_gdp_reshaped = df_gdp_reshaped.rename(columns={'Country Name': 'Entity', 'Country Code':'Code'})\n",
    "\n",
    "# Remove any rows with missing GDP per capita values\n",
    "df_gdp_reshaped = df_gdp_reshaped.dropna(subset=['GDP per capita'])"
   ]
  },
  {
   "cell_type": "code",
   "execution_count": null,
   "metadata": {},
   "outputs": [],
   "source": [
    "df_gdp_reshaped.to_csv('gdp_reshaped.csv')"
   ]
  }
 ],
 "metadata": {
  "language_info": {
   "name": "python"
  },
  "orig_nbformat": 4
 },
 "nbformat": 4,
 "nbformat_minor": 2
}
